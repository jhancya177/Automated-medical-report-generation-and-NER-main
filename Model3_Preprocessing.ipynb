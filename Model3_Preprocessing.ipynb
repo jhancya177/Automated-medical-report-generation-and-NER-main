{
  "nbformat": 4,
  "nbformat_minor": 0,
  "metadata": {
    "colab": {
      "provenance": []
    },
    "kernelspec": {
      "display_name": "Python 3",
      "name": "python3"
    }
  },
  "cells": [
    {
      "cell_type": "code",
      "metadata": {
        "id": "Kjshp1C90S_R"
      },
      "source": [
        "import pandas as pd\n",
        "import numpy as np\n",
        "import matplotlib.pyplot as plt\n",
        "import seaborn as sns\n",
        "import re\n",
        "import os\n",
        "import sklearn\n",
        "import tqdm\n",
        "from tqdm import tqdm\n",
        "import nltk\n",
        "import warnings\n",
        "warnings.filterwarnings(\"ignore\") \n",
        "import cv2"
      ],
      "execution_count": null,
      "outputs": []
    },
    {
      "cell_type": "code",
      "metadata": {
        "id": "Hu6pa1wb2p5t",
        "colab": {
          "base_uri": "https://localhost:8080/"
        },
        "outputId": "1dcb8559-9984-4067-fe98-502a6c83f8af"
      },
      "source": [
        "from google.colab import drive\n",
        "drive.mount('/content/drive') "
      ],
      "execution_count": null,
      "outputs": [
        {
          "output_type": "stream",
          "name": "stdout",
          "text": [
            "Mounted at /content/drive\n"
          ]
        }
      ]
    },
    {
      "cell_type": "code",
      "metadata": {
        "id": "nZ6nTtOj5Nqg"
      },
      "source": [
        "os.chdir(\"/content/drive/MyDrive/Medical Report Generation Using Deeplearning/Medical Report Generation Using Deeplearning/\") "
      ],
      "execution_count": null,
      "outputs": []
    },
    {
      "cell_type": "code",
      "metadata": {
        "id": "qwUpWiWi8eba",
        "colab": {
          "base_uri": "https://localhost:8080/"
        },
        "outputId": "3ac26a86-26e3-4523-9885-8b8838b38a1f"
      },
      "source": [
        "print(\"there are {} number of reports in the data \".format(len(os.listdir(\"ecgen-radiology\"))))\n",
        "print(\"there are {} number of x-rays in the data \".format(len(os.listdir(\"NLMCXR_png\")))) "
      ],
      "execution_count": null,
      "outputs": [
        {
          "output_type": "stream",
          "name": "stdout",
          "text": [
            "there are 3951 number of reports in the data \n",
            "there are 7495 number of x-rays in the data \n"
          ]
        }
      ]
    },
    {
      "cell_type": "markdown",
      "metadata": {
        "id": "8Ug1u_Ao-Ws6"
      },
      "source": [
        "There are more number of images than the number of reports as a report can be associated with one or more x-rays. In Most cases , its 2 images per report."
      ]
    },
    {
      "cell_type": "markdown",
      "metadata": {
        "id": "lWaVsCI3L9s_"
      },
      "source": [
        "Extract the findngs, impression, and indication from these xml files as reports and Also the image ids corresponding to that report"
      ]
    },
    {
      "cell_type": "code",
      "metadata": {
        "colab": {
          "base_uri": "https://localhost:8080/"
        },
        "id": "m7NgirdE2Eov",
        "outputId": "5b0a0398-a656-43c4-9cf7-7ac20824831a"
      },
      "source": [
        "#https://www.geeksforgeeks.org/xml-parsing-python/\n",
        "\n",
        "import xml.etree.ElementTree as et\n",
        "id=[]\n",
        "finding=[]\n",
        "count=[]\n",
        "indication=[]\n",
        "impression=[]\n",
        "\n",
        "for report in tqdm(os.listdir(\"ecgen-radiology\")):\n",
        "  #create element tree object\n",
        "  tree=et.parse(\"ecgen-radiology/\"+report)\n",
        "  #get the root element\n",
        "  root=tree.getroot()\n",
        "  #inside the root element\n",
        "  for child in root:\n",
        "      if child.tag == \"MedlineCitation\":\n",
        "          for each in child:\n",
        "              if each.tag == \"Article\":\n",
        "                  for i in each:\n",
        "                      if i.tag == \"Abstract\":\n",
        "                          for j in i:\n",
        "\n",
        "                            if j.get('Label')=='INDICATION':\n",
        "                              indic=j.text\n",
        "                              \n",
        "                            if j.get(\"Label\") == \"FINDINGS\":\n",
        "                              find = j.text\n",
        "                                \n",
        "                            if j.get('Label')=='IMPRESSION':\n",
        "                              \n",
        "                              impr=j.text\n",
        "                              \n",
        "                                       \n",
        "  image_count=0 \n",
        "  for img_id in root.findall(\"parentImage\"):\n",
        "    id.append(img_id.get(\"id\")+\".png\")\n",
        "    finding.append(find)\n",
        "    impression.append(impr)\n",
        "    indication.append(indic)\n",
        "    image_count+=1\n",
        "  count.append(image_count)  "
      ],
      "execution_count": null,
      "outputs": [
        {
          "output_type": "stream",
          "name": "stderr",
          "text": [
            "100%|██████████| 3951/3951 [00:55<00:00, 70.56it/s] \n"
          ]
        }
      ]
    },
    {
      "cell_type": "code",
      "metadata": {
        "colab": {
          "base_uri": "https://localhost:8080/",
          "height": 658
        },
        "id": "WVTtcGv47h09",
        "outputId": "be7d0625-9cfe-4120-db7b-d8e1d5c7aa75"
      },
      "source": [
        "df=pd.DataFrame()\n",
        "patient_id=[i[:-9] for i in id]\n",
        "df[\"patient_id\"]=patient_id\n",
        "df[\"image_id\"]=[\"NLMCXR_png/\"+ i for i in id]\n",
        "df[\"finding\"]=finding\n",
        "df[\"impression\"]=impression\n",
        "df[\"indication\"]=indication\n",
        "print(df.shape)\n",
        "df"
      ],
      "execution_count": null,
      "outputs": [
        {
          "output_type": "stream",
          "name": "stdout",
          "text": [
            "(7465, 5)\n"
          ]
        },
        {
          "output_type": "execute_result",
          "data": {
            "text/plain": [
              "                patient_id                                  image_id  \\\n",
              "0          CXR1964_IM-0629       NLMCXR_png/CXR1964_IM-0629-1001.png   \n",
              "1          CXR1964_IM-0629       NLMCXR_png/CXR1964_IM-0629-2001.png   \n",
              "2          CXR1982_IM-0639       NLMCXR_png/CXR1982_IM-0639-1001.png   \n",
              "3          CXR1982_IM-0639       NLMCXR_png/CXR1982_IM-0639-2001.png   \n",
              "4          CXR1967_IM-0629       NLMCXR_png/CXR1967_IM-0629-1001.png   \n",
              "...                    ...                                       ...   \n",
              "7460  CXR3674_IM-1829-0001  NLMCXR_png/CXR3674_IM-1829-0001-0001.png   \n",
              "7461  CXR3674_IM-1829-0001  NLMCXR_png/CXR3674_IM-1829-0001-0002.png   \n",
              "7462       CXR3724_IM-1860       NLMCXR_png/CXR3724_IM-1860-1001.png   \n",
              "7463       CXR3724_IM-1860       NLMCXR_png/CXR3724_IM-1860-2001.png   \n",
              "7464       CXR3718_IM-1856       NLMCXR_png/CXR3718_IM-1856-2001.png   \n",
              "\n",
              "                                                finding  \\\n",
              "0     Heart size and mediastinal contours appear wit...   \n",
              "1     Heart size and mediastinal contours appear wit...   \n",
              "2                                                  None   \n",
              "3                                                  None   \n",
              "4     Heart size and pulmonary vascularity appear wi...   \n",
              "...                                                 ...   \n",
              "7460                                               None   \n",
              "7461                                               None   \n",
              "7462  Heart size normal. Lungs are clear. XXXX are n...   \n",
              "7463  Heart size normal. Lungs are clear. XXXX are n...   \n",
              "7464                                               None   \n",
              "\n",
              "                                             impression  \\\n",
              "0                 No acute cardiopulmonary abnormality.   \n",
              "1                 No acute cardiopulmonary abnormality.   \n",
              "2     Some XXXX opacities compatible with subsegment...   \n",
              "3     Some XXXX opacities compatible with subsegment...   \n",
              "4     1. XXXX opacities in the lingula. The appearan...   \n",
              "...                                                 ...   \n",
              "7460  No comparison chest x-XXXX. Well-expanded and ...   \n",
              "7461  No comparison chest x-XXXX. Well-expanded and ...   \n",
              "7462                                      Normal chest.   \n",
              "7463                                      Normal chest.   \n",
              "7464  Heart size is within normal limits. Mild promi...   \n",
              "\n",
              "                                            indication  \n",
              "0                       XXXX-year-old with chest pain.  \n",
              "1                       XXXX-year-old with chest pain.  \n",
              "2                                             CLL. SOB  \n",
              "3                                             CLL. SOB  \n",
              "4     Left anterior and posterior chest pain. Dyspnea.  \n",
              "...                                                ...  \n",
              "7460                                       PAIN;...FWC  \n",
              "7461                                       PAIN;...FWC  \n",
              "7462                                        chest pain  \n",
              "7463                                        chest pain  \n",
              "7464       Chest pain, congestion XXXX-year-old female  \n",
              "\n",
              "[7465 rows x 5 columns]"
            ],
            "text/html": [
              "\n",
              "  <div id=\"df-0d254739-c21b-4e7e-9891-57a46e428e3e\">\n",
              "    <div class=\"colab-df-container\">\n",
              "      <div>\n",
              "<style scoped>\n",
              "    .dataframe tbody tr th:only-of-type {\n",
              "        vertical-align: middle;\n",
              "    }\n",
              "\n",
              "    .dataframe tbody tr th {\n",
              "        vertical-align: top;\n",
              "    }\n",
              "\n",
              "    .dataframe thead th {\n",
              "        text-align: right;\n",
              "    }\n",
              "</style>\n",
              "<table border=\"1\" class=\"dataframe\">\n",
              "  <thead>\n",
              "    <tr style=\"text-align: right;\">\n",
              "      <th></th>\n",
              "      <th>patient_id</th>\n",
              "      <th>image_id</th>\n",
              "      <th>finding</th>\n",
              "      <th>impression</th>\n",
              "      <th>indication</th>\n",
              "    </tr>\n",
              "  </thead>\n",
              "  <tbody>\n",
              "    <tr>\n",
              "      <th>0</th>\n",
              "      <td>CXR1964_IM-0629</td>\n",
              "      <td>NLMCXR_png/CXR1964_IM-0629-1001.png</td>\n",
              "      <td>Heart size and mediastinal contours appear wit...</td>\n",
              "      <td>No acute cardiopulmonary abnormality.</td>\n",
              "      <td>XXXX-year-old with chest pain.</td>\n",
              "    </tr>\n",
              "    <tr>\n",
              "      <th>1</th>\n",
              "      <td>CXR1964_IM-0629</td>\n",
              "      <td>NLMCXR_png/CXR1964_IM-0629-2001.png</td>\n",
              "      <td>Heart size and mediastinal contours appear wit...</td>\n",
              "      <td>No acute cardiopulmonary abnormality.</td>\n",
              "      <td>XXXX-year-old with chest pain.</td>\n",
              "    </tr>\n",
              "    <tr>\n",
              "      <th>2</th>\n",
              "      <td>CXR1982_IM-0639</td>\n",
              "      <td>NLMCXR_png/CXR1982_IM-0639-1001.png</td>\n",
              "      <td>None</td>\n",
              "      <td>Some XXXX opacities compatible with subsegment...</td>\n",
              "      <td>CLL. SOB</td>\n",
              "    </tr>\n",
              "    <tr>\n",
              "      <th>3</th>\n",
              "      <td>CXR1982_IM-0639</td>\n",
              "      <td>NLMCXR_png/CXR1982_IM-0639-2001.png</td>\n",
              "      <td>None</td>\n",
              "      <td>Some XXXX opacities compatible with subsegment...</td>\n",
              "      <td>CLL. SOB</td>\n",
              "    </tr>\n",
              "    <tr>\n",
              "      <th>4</th>\n",
              "      <td>CXR1967_IM-0629</td>\n",
              "      <td>NLMCXR_png/CXR1967_IM-0629-1001.png</td>\n",
              "      <td>Heart size and pulmonary vascularity appear wi...</td>\n",
              "      <td>1. XXXX opacities in the lingula. The appearan...</td>\n",
              "      <td>Left anterior and posterior chest pain. Dyspnea.</td>\n",
              "    </tr>\n",
              "    <tr>\n",
              "      <th>...</th>\n",
              "      <td>...</td>\n",
              "      <td>...</td>\n",
              "      <td>...</td>\n",
              "      <td>...</td>\n",
              "      <td>...</td>\n",
              "    </tr>\n",
              "    <tr>\n",
              "      <th>7460</th>\n",
              "      <td>CXR3674_IM-1829-0001</td>\n",
              "      <td>NLMCXR_png/CXR3674_IM-1829-0001-0001.png</td>\n",
              "      <td>None</td>\n",
              "      <td>No comparison chest x-XXXX. Well-expanded and ...</td>\n",
              "      <td>PAIN;...FWC</td>\n",
              "    </tr>\n",
              "    <tr>\n",
              "      <th>7461</th>\n",
              "      <td>CXR3674_IM-1829-0001</td>\n",
              "      <td>NLMCXR_png/CXR3674_IM-1829-0001-0002.png</td>\n",
              "      <td>None</td>\n",
              "      <td>No comparison chest x-XXXX. Well-expanded and ...</td>\n",
              "      <td>PAIN;...FWC</td>\n",
              "    </tr>\n",
              "    <tr>\n",
              "      <th>7462</th>\n",
              "      <td>CXR3724_IM-1860</td>\n",
              "      <td>NLMCXR_png/CXR3724_IM-1860-1001.png</td>\n",
              "      <td>Heart size normal. Lungs are clear. XXXX are n...</td>\n",
              "      <td>Normal chest.</td>\n",
              "      <td>chest pain</td>\n",
              "    </tr>\n",
              "    <tr>\n",
              "      <th>7463</th>\n",
              "      <td>CXR3724_IM-1860</td>\n",
              "      <td>NLMCXR_png/CXR3724_IM-1860-2001.png</td>\n",
              "      <td>Heart size normal. Lungs are clear. XXXX are n...</td>\n",
              "      <td>Normal chest.</td>\n",
              "      <td>chest pain</td>\n",
              "    </tr>\n",
              "    <tr>\n",
              "      <th>7464</th>\n",
              "      <td>CXR3718_IM-1856</td>\n",
              "      <td>NLMCXR_png/CXR3718_IM-1856-2001.png</td>\n",
              "      <td>None</td>\n",
              "      <td>Heart size is within normal limits. Mild promi...</td>\n",
              "      <td>Chest pain, congestion XXXX-year-old female</td>\n",
              "    </tr>\n",
              "  </tbody>\n",
              "</table>\n",
              "<p>7465 rows × 5 columns</p>\n",
              "</div>\n",
              "      <button class=\"colab-df-convert\" onclick=\"convertToInteractive('df-0d254739-c21b-4e7e-9891-57a46e428e3e')\"\n",
              "              title=\"Convert this dataframe to an interactive table.\"\n",
              "              style=\"display:none;\">\n",
              "        \n",
              "  <svg xmlns=\"http://www.w3.org/2000/svg\" height=\"24px\"viewBox=\"0 0 24 24\"\n",
              "       width=\"24px\">\n",
              "    <path d=\"M0 0h24v24H0V0z\" fill=\"none\"/>\n",
              "    <path d=\"M18.56 5.44l.94 2.06.94-2.06 2.06-.94-2.06-.94-.94-2.06-.94 2.06-2.06.94zm-11 1L8.5 8.5l.94-2.06 2.06-.94-2.06-.94L8.5 2.5l-.94 2.06-2.06.94zm10 10l.94 2.06.94-2.06 2.06-.94-2.06-.94-.94-2.06-.94 2.06-2.06.94z\"/><path d=\"M17.41 7.96l-1.37-1.37c-.4-.4-.92-.59-1.43-.59-.52 0-1.04.2-1.43.59L10.3 9.45l-7.72 7.72c-.78.78-.78 2.05 0 2.83L4 21.41c.39.39.9.59 1.41.59.51 0 1.02-.2 1.41-.59l7.78-7.78 2.81-2.81c.8-.78.8-2.07 0-2.86zM5.41 20L4 18.59l7.72-7.72 1.47 1.35L5.41 20z\"/>\n",
              "  </svg>\n",
              "      </button>\n",
              "      \n",
              "  <style>\n",
              "    .colab-df-container {\n",
              "      display:flex;\n",
              "      flex-wrap:wrap;\n",
              "      gap: 12px;\n",
              "    }\n",
              "\n",
              "    .colab-df-convert {\n",
              "      background-color: #E8F0FE;\n",
              "      border: none;\n",
              "      border-radius: 50%;\n",
              "      cursor: pointer;\n",
              "      display: none;\n",
              "      fill: #1967D2;\n",
              "      height: 32px;\n",
              "      padding: 0 0 0 0;\n",
              "      width: 32px;\n",
              "    }\n",
              "\n",
              "    .colab-df-convert:hover {\n",
              "      background-color: #E2EBFA;\n",
              "      box-shadow: 0px 1px 2px rgba(60, 64, 67, 0.3), 0px 1px 3px 1px rgba(60, 64, 67, 0.15);\n",
              "      fill: #174EA6;\n",
              "    }\n",
              "\n",
              "    [theme=dark] .colab-df-convert {\n",
              "      background-color: #3B4455;\n",
              "      fill: #D2E3FC;\n",
              "    }\n",
              "\n",
              "    [theme=dark] .colab-df-convert:hover {\n",
              "      background-color: #434B5C;\n",
              "      box-shadow: 0px 1px 3px 1px rgba(0, 0, 0, 0.15);\n",
              "      filter: drop-shadow(0px 1px 2px rgba(0, 0, 0, 0.3));\n",
              "      fill: #FFFFFF;\n",
              "    }\n",
              "  </style>\n",
              "\n",
              "      <script>\n",
              "        const buttonEl =\n",
              "          document.querySelector('#df-0d254739-c21b-4e7e-9891-57a46e428e3e button.colab-df-convert');\n",
              "        buttonEl.style.display =\n",
              "          google.colab.kernel.accessAllowed ? 'block' : 'none';\n",
              "\n",
              "        async function convertToInteractive(key) {\n",
              "          const element = document.querySelector('#df-0d254739-c21b-4e7e-9891-57a46e428e3e');\n",
              "          const dataTable =\n",
              "            await google.colab.kernel.invokeFunction('convertToInteractive',\n",
              "                                                     [key], {});\n",
              "          if (!dataTable) return;\n",
              "\n",
              "          const docLinkHtml = 'Like what you see? Visit the ' +\n",
              "            '<a target=\"_blank\" href=https://colab.research.google.com/notebooks/data_table.ipynb>data table notebook</a>'\n",
              "            + ' to learn more about interactive tables.';\n",
              "          element.innerHTML = '';\n",
              "          dataTable['output_type'] = 'display_data';\n",
              "          await google.colab.output.renderOutput(dataTable, element);\n",
              "          const docLink = document.createElement('div');\n",
              "          docLink.innerHTML = docLinkHtml;\n",
              "          element.appendChild(docLink);\n",
              "        }\n",
              "      </script>\n",
              "    </div>\n",
              "  </div>\n",
              "  "
            ]
          },
          "metadata": {},
          "execution_count": 12
        }
      ]
    },
    {
      "cell_type": "code",
      "metadata": {
        "id": "df-pVA7BrsVs",
        "colab": {
          "base_uri": "https://localhost:8080/"
        },
        "outputId": "5c352b64-8991-4a3f-cac3-fdf581e27043"
      },
      "source": [
        "#check the lengths of reports\n",
        "length=[]\n",
        "for report in df[\"finding\"]:\n",
        "  try:\n",
        "    length.append(len(report.split()))\n",
        "  except:\n",
        "    pass\n",
        "length=np.array(length)\n",
        "print(\"the mean lengths of reports is \",np.mean(length))\n",
        "print(\"the 80th percentile lengths of reports is \",np.percentile(length,80))\n",
        "print(\"the 90th percentile lengths of reports is \",np.percentile(length,90))\n",
        "print(\"the 99th percentile lengths of reports is \",np.percentile(length,99))\n",
        "print(\"the maximum value of lengths of reports is \",np.max(length))"
      ],
      "execution_count": null,
      "outputs": [
        {
          "output_type": "stream",
          "name": "stdout",
          "text": [
            "the mean lengths of reports is  31.306277056277057\n",
            "the 80th percentile lengths of reports is  41.0\n",
            "the 90th percentile lengths of reports is  50.0\n",
            "the 99th percentile lengths of reports is  79.0\n",
            "the maximum value of lengths of reports is  169\n"
          ]
        }
      ]
    },
    {
      "cell_type": "code",
      "metadata": {
        "id": "iiWqKg5rNYws",
        "colab": {
          "base_uri": "https://localhost:8080/",
          "height": 1000
        },
        "outputId": "cd876461-46a3-4f43-9394-2d311fed46f3"
      },
      "source": [
        "#print some sample x-rays and findings\n",
        "temp=np.random.choice(range(7470),5)\n",
        "for each in temp:\n",
        "  img=cv2.imread(df.iloc[each][\"image_id\"])\n",
        "  plt.imshow(img)\n",
        "  plt.show()\n",
        "  print(\"FINDINGS:\",df.iloc[each][\"finding\"])\n",
        "  print(\"IMPRESSION:\",df.iloc[each][\"impression\"])\n",
        "  print(\"INDICATION:\",df.iloc[each][\"indication\"])\n",
        "  print(\"*\"*100)"
      ],
      "execution_count": null,
      "outputs": [
        {
          "output_type": "display_data",
          "data": {
            "text/plain": [
              "<Figure size 432x288 with 1 Axes>"
            ],
            "image/png": "[encoded data removed]"
          },
          "metadata": {
            "needs_background": "light"
          }
        },
        {
          "output_type": "stream",
          "name": "stdout",
          "text": [
            "FINDINGS: None\n",
            "IMPRESSION: Heart size upper limits normal. Sternotomy. Right-sided aortic XXXX. Lungs are clear.\n",
            "INDICATION: History of dyspnea\n",
            "****************************************************************************************************\n"
          ]
        },
        {
          "output_type": "display_data",
          "data": {
            "text/plain": [
              "<Figure size 432x288 with 1 Axes>"
            ],
            "image/png": "[encoded data removed]"
          },
          "metadata": {
            "needs_background": "light"
          }
        },
        {
          "output_type": "stream",
          "name": "stdout",
          "text": [
            "FINDINGS: None\n",
            "IMPRESSION: None\n",
            "INDICATION: None\n",
            "****************************************************************************************************\n"
          ]
        },
        {
          "output_type": "display_data",
          "data": {
            "text/plain": [
              "<Figure size 432x288 with 1 Axes>"
            ],
            "image/png": "[encoded data removed]"
          },
          "metadata": {
            "needs_background": "light"
          }
        },
        {
          "output_type": "stream",
          "name": "stdout",
          "text": [
            "FINDINGS: Cardiomediastinal silhouette and pulmonary vasculature are within normal limits. Lungs are clear. No pneumothorax or pleural effusion. No acute osseous findings.\n",
            "IMPRESSION: No acute cardiopulmonary findings.\n",
            "INDICATION: XXXX, XXXX vehicle collision\n",
            "****************************************************************************************************\n"
          ]
        },
        {
          "output_type": "display_data",
          "data": {
            "text/plain": [
              "<Figure size 432x288 with 1 Axes>"
            ],
            "image/png": "[encoded data removed]"
          },
          "metadata": {
            "needs_background": "light"
          }
        },
        {
          "output_type": "stream",
          "name": "stdout",
          "text": [
            "FINDINGS: Heart size normal. No focal airspace disease. No pneumothorax or effusions.\n",
            "IMPRESSION: No acute cardiopulmonary findings.\n",
            "INDICATION: XXXX-year-old male with chest pain.\n",
            "****************************************************************************************************\n"
          ]
        },
        {
          "output_type": "display_data",
          "data": {
            "text/plain": [
              "<Figure size 432x288 with 1 Axes>"
            ],
            "image/png": "[encoded data removed]"
          },
          "metadata": {
            "needs_background": "light"
          }
        },
        {
          "output_type": "stream",
          "name": "stdout",
          "text": [
            "FINDINGS: Normal heart size and mediastinal contours. Clear lungs. No pneumothorax or pleural effusion. Unremarkable XXXX.\n",
            "IMPRESSION: No acute cardiopulmonary process. .\n",
            "INDICATION: Difficulty breathing.\n",
            "****************************************************************************************************\n"
          ]
        }
      ]
    },
    {
      "cell_type": "code",
      "metadata": {
        "id": "GgOqWSo4c21h",
        "colab": {
          "base_uri": "https://localhost:8080/"
        },
        "outputId": "024c10e2-df9d-4971-e69f-e09dc73e0ec8"
      },
      "source": [
        "#finding the number of reports were findings is none\n",
        "none=sum(df[\"finding\"].isnull().values.ravel())\n",
        "print(\"there are {} number of records where finding is none\".format(none))"
      ],
      "execution_count": null,
      "outputs": [
        {
          "output_type": "stream",
          "name": "stdout",
          "text": [
            "there are 997 number of records where finding is none\n"
          ]
        }
      ]
    },
    {
      "cell_type": "markdown",
      "metadata": {
        "id": "n9SSuevAj4SH"
      },
      "source": [
        "Findings are considered as reports,  if the findings is none for a  record, we used impression as findings to that record."
      ]
    },
    {
      "cell_type": "code",
      "metadata": {
        "id": "T-Dj-uHgj3oF"
      },
      "source": [
        "for i in range(df.shape[0]):\n",
        "  if finding[i] is None:\n",
        "    \n",
        "    finding[i]=impression[i]\n",
        "    \n",
        "\n",
        "df[\"finding\"]=finding"
      ],
      "execution_count": null,
      "outputs": []
    },
    {
      "cell_type": "code",
      "metadata": {
        "id": "4B4B9p4gjpeE",
        "colab": {
          "base_uri": "https://localhost:8080/"
        },
        "outputId": "779ce45c-86f8-41a7-be81-21c2ae8c955a"
      },
      "source": [
        "none=sum(df[\"finding\"].isnull().values.ravel())\n",
        "print(\"there are {} number of records where finding is none\".format(none))\n"
      ],
      "execution_count": null,
      "outputs": [
        {
          "output_type": "stream",
          "name": "stdout",
          "text": [
            "there are 40 number of records where finding is none\n"
          ]
        }
      ]
    },
    {
      "cell_type": "code",
      "metadata": {
        "id": "giigOlYYu8_C",
        "colab": {
          "base_uri": "https://localhost:8080/"
        },
        "outputId": "1cb3a9d6-09ac-4ab1-a866-95b1ca4ab558"
      },
      "source": [
        "df=df.dropna()\n",
        "none=sum(df[\"finding\"].isnull().values.ravel())\n",
        "print(\"there are {} number of records where finding is none\".format(none))\n",
        "df=df.drop([\"impression\",\"indication\"],axis=1)"
      ],
      "execution_count": null,
      "outputs": [
        {
          "output_type": "stream",
          "name": "stdout",
          "text": [
            "there are 0 number of records where finding is none\n"
          ]
        }
      ]
    },
    {
      "cell_type": "code",
      "metadata": {
        "id": "QAN8C6U9v6ko",
        "colab": {
          "base_uri": "https://localhost:8080/",
          "height": 424
        },
        "outputId": "41452ae5-c7d8-4e67-e7b7-66d76da15ce3"
      },
      "source": [
        "df"
      ],
      "execution_count": null,
      "outputs": [
        {
          "output_type": "execute_result",
          "data": {
            "text/plain": [
              "                patient_id                                  image_id  \\\n",
              "0          CXR1964_IM-0629       NLMCXR_png/CXR1964_IM-0629-1001.png   \n",
              "1          CXR1964_IM-0629       NLMCXR_png/CXR1964_IM-0629-2001.png   \n",
              "2          CXR1982_IM-0639       NLMCXR_png/CXR1982_IM-0639-1001.png   \n",
              "3          CXR1982_IM-0639       NLMCXR_png/CXR1982_IM-0639-2001.png   \n",
              "4          CXR1967_IM-0629       NLMCXR_png/CXR1967_IM-0629-1001.png   \n",
              "...                    ...                                       ...   \n",
              "7460  CXR3674_IM-1829-0001  NLMCXR_png/CXR3674_IM-1829-0001-0001.png   \n",
              "7461  CXR3674_IM-1829-0001  NLMCXR_png/CXR3674_IM-1829-0001-0002.png   \n",
              "7462       CXR3724_IM-1860       NLMCXR_png/CXR3724_IM-1860-1001.png   \n",
              "7463       CXR3724_IM-1860       NLMCXR_png/CXR3724_IM-1860-2001.png   \n",
              "7464       CXR3718_IM-1856       NLMCXR_png/CXR3718_IM-1856-2001.png   \n",
              "\n",
              "                                                finding  \n",
              "0     Heart size and mediastinal contours appear wit...  \n",
              "1     Heart size and mediastinal contours appear wit...  \n",
              "2     Some XXXX opacities compatible with subsegment...  \n",
              "3     Some XXXX opacities compatible with subsegment...  \n",
              "4     Heart size and pulmonary vascularity appear wi...  \n",
              "...                                                 ...  \n",
              "7460  No comparison chest x-XXXX. Well-expanded and ...  \n",
              "7461  No comparison chest x-XXXX. Well-expanded and ...  \n",
              "7462  Heart size normal. Lungs are clear. XXXX are n...  \n",
              "7463  Heart size normal. Lungs are clear. XXXX are n...  \n",
              "7464  Heart size is within normal limits. Mild promi...  \n",
              "\n",
              "[7294 rows x 3 columns]"
            ],
            "text/html": [
              "\n",
              "  <div id=\"df-667b0079-4aa1-4882-89db-514cf8a50d0c\">\n",
              "    <div class=\"colab-df-container\">\n",
              "      <div>\n",
              "<style scoped>\n",
              "    .dataframe tbody tr th:only-of-type {\n",
              "        vertical-align: middle;\n",
              "    }\n",
              "\n",
              "    .dataframe tbody tr th {\n",
              "        vertical-align: top;\n",
              "    }\n",
              "\n",
              "    .dataframe thead th {\n",
              "        text-align: right;\n",
              "    }\n",
              "</style>\n",
              "<table border=\"1\" class=\"dataframe\">\n",
              "  <thead>\n",
              "    <tr style=\"text-align: right;\">\n",
              "      <th></th>\n",
              "      <th>patient_id</th>\n",
              "      <th>image_id</th>\n",
              "      <th>finding</th>\n",
              "    </tr>\n",
              "  </thead>\n",
              "  <tbody>\n",
              "    <tr>\n",
              "      <th>0</th>\n",
              "      <td>CXR1964_IM-0629</td>\n",
              "      <td>NLMCXR_png/CXR1964_IM-0629-1001.png</td>\n",
              "      <td>Heart size and mediastinal contours appear wit...</td>\n",
              "    </tr>\n",
              "    <tr>\n",
              "      <th>1</th>\n",
              "      <td>CXR1964_IM-0629</td>\n",
              "      <td>NLMCXR_png/CXR1964_IM-0629-2001.png</td>\n",
              "      <td>Heart size and mediastinal contours appear wit...</td>\n",
              "    </tr>\n",
              "    <tr>\n",
              "      <th>2</th>\n",
              "      <td>CXR1982_IM-0639</td>\n",
              "      <td>NLMCXR_png/CXR1982_IM-0639-1001.png</td>\n",
              "      <td>Some XXXX opacities compatible with subsegment...</td>\n",
              "    </tr>\n",
              "    <tr>\n",
              "      <th>3</th>\n",
              "      <td>CXR1982_IM-0639</td>\n",
              "      <td>NLMCXR_png/CXR1982_IM-0639-2001.png</td>\n",
              "      <td>Some XXXX opacities compatible with subsegment...</td>\n",
              "    </tr>\n",
              "    <tr>\n",
              "      <th>4</th>\n",
              "      <td>CXR1967_IM-0629</td>\n",
              "      <td>NLMCXR_png/CXR1967_IM-0629-1001.png</td>\n",
              "      <td>Heart size and pulmonary vascularity appear wi...</td>\n",
              "    </tr>\n",
              "    <tr>\n",
              "      <th>...</th>\n",
              "      <td>...</td>\n",
              "      <td>...</td>\n",
              "      <td>...</td>\n",
              "    </tr>\n",
              "    <tr>\n",
              "      <th>7460</th>\n",
              "      <td>CXR3674_IM-1829-0001</td>\n",
              "      <td>NLMCXR_png/CXR3674_IM-1829-0001-0001.png</td>\n",
              "      <td>No comparison chest x-XXXX. Well-expanded and ...</td>\n",
              "    </tr>\n",
              "    <tr>\n",
              "      <th>7461</th>\n",
              "      <td>CXR3674_IM-1829-0001</td>\n",
              "      <td>NLMCXR_png/CXR3674_IM-1829-0001-0002.png</td>\n",
              "      <td>No comparison chest x-XXXX. Well-expanded and ...</td>\n",
              "    </tr>\n",
              "    <tr>\n",
              "      <th>7462</th>\n",
              "      <td>CXR3724_IM-1860</td>\n",
              "      <td>NLMCXR_png/CXR3724_IM-1860-1001.png</td>\n",
              "      <td>Heart size normal. Lungs are clear. XXXX are n...</td>\n",
              "    </tr>\n",
              "    <tr>\n",
              "      <th>7463</th>\n",
              "      <td>CXR3724_IM-1860</td>\n",
              "      <td>NLMCXR_png/CXR3724_IM-1860-2001.png</td>\n",
              "      <td>Heart size normal. Lungs are clear. XXXX are n...</td>\n",
              "    </tr>\n",
              "    <tr>\n",
              "      <th>7464</th>\n",
              "      <td>CXR3718_IM-1856</td>\n",
              "      <td>NLMCXR_png/CXR3718_IM-1856-2001.png</td>\n",
              "      <td>Heart size is within normal limits. Mild promi...</td>\n",
              "    </tr>\n",
              "  </tbody>\n",
              "</table>\n",
              "<p>7294 rows × 3 columns</p>\n",
              "</div>\n",
              "      <button class=\"colab-df-convert\" onclick=\"convertToInteractive('df-667b0079-4aa1-4882-89db-514cf8a50d0c')\"\n",
              "              title=\"Convert this dataframe to an interactive table.\"\n",
              "              style=\"display:none;\">\n",
              "        \n",
              "  <svg xmlns=\"http://www.w3.org/2000/svg\" height=\"24px\"viewBox=\"0 0 24 24\"\n",
              "       width=\"24px\">\n",
              "    <path d=\"M0 0h24v24H0V0z\" fill=\"none\"/>\n",
              "    <path d=\"M18.56 5.44l.94 2.06.94-2.06 2.06-.94-2.06-.94-.94-2.06-.94 2.06-2.06.94zm-11 1L8.5 8.5l.94-2.06 2.06-.94-2.06-.94L8.5 2.5l-.94 2.06-2.06.94zm10 10l.94 2.06.94-2.06 2.06-.94-2.06-.94-.94-2.06-.94 2.06-2.06.94z\"/><path d=\"M17.41 7.96l-1.37-1.37c-.4-.4-.92-.59-1.43-.59-.52 0-1.04.2-1.43.59L10.3 9.45l-7.72 7.72c-.78.78-.78 2.05 0 2.83L4 21.41c.39.39.9.59 1.41.59.51 0 1.02-.2 1.41-.59l7.78-7.78 2.81-2.81c.8-.78.8-2.07 0-2.86zM5.41 20L4 18.59l7.72-7.72 1.47 1.35L5.41 20z\"/>\n",
              "  </svg>\n",
              "      </button>\n",
              "      \n",
              "  <style>\n",
              "    .colab-df-container {\n",
              "      display:flex;\n",
              "      flex-wrap:wrap;\n",
              "      gap: 12px;\n",
              "    }\n",
              "\n",
              "    .colab-df-convert {\n",
              "      background-color: #E8F0FE;\n",
              "      border: none;\n",
              "      border-radius: 50%;\n",
              "      cursor: pointer;\n",
              "      display: none;\n",
              "      fill: #1967D2;\n",
              "      height: 32px;\n",
              "      padding: 0 0 0 0;\n",
              "      width: 32px;\n",
              "    }\n",
              "\n",
              "    .colab-df-convert:hover {\n",
              "      background-color: #E2EBFA;\n",
              "      box-shadow: 0px 1px 2px rgba(60, 64, 67, 0.3), 0px 1px 3px 1px rgba(60, 64, 67, 0.15);\n",
              "      fill: #174EA6;\n",
              "    }\n",
              "\n",
              "    [theme=dark] .colab-df-convert {\n",
              "      background-color: #3B4455;\n",
              "      fill: #D2E3FC;\n",
              "    }\n",
              "\n",
              "    [theme=dark] .colab-df-convert:hover {\n",
              "      background-color: #434B5C;\n",
              "      box-shadow: 0px 1px 3px 1px rgba(0, 0, 0, 0.15);\n",
              "      filter: drop-shadow(0px 1px 2px rgba(0, 0, 0, 0.3));\n",
              "      fill: #FFFFFF;\n",
              "    }\n",
              "  </style>\n",
              "\n",
              "      <script>\n",
              "        const buttonEl =\n",
              "          document.querySelector('#df-667b0079-4aa1-4882-89db-514cf8a50d0c button.colab-df-convert');\n",
              "        buttonEl.style.display =\n",
              "          google.colab.kernel.accessAllowed ? 'block' : 'none';\n",
              "\n",
              "        async function convertToInteractive(key) {\n",
              "          const element = document.querySelector('#df-667b0079-4aa1-4882-89db-514cf8a50d0c');\n",
              "          const dataTable =\n",
              "            await google.colab.kernel.invokeFunction('convertToInteractive',\n",
              "                                                     [key], {});\n",
              "          if (!dataTable) return;\n",
              "\n",
              "          const docLinkHtml = 'Like what you see? Visit the ' +\n",
              "            '<a target=\"_blank\" href=https://colab.research.google.com/notebooks/data_table.ipynb>data table notebook</a>'\n",
              "            + ' to learn more about interactive tables.';\n",
              "          element.innerHTML = '';\n",
              "          dataTable['output_type'] = 'display_data';\n",
              "          await google.colab.output.renderOutput(dataTable, element);\n",
              "          const docLink = document.createElement('div');\n",
              "          docLink.innerHTML = docLinkHtml;\n",
              "          element.appendChild(docLink);\n",
              "        }\n",
              "      </script>\n",
              "    </div>\n",
              "  </div>\n",
              "  "
            ]
          },
          "metadata": {},
          "execution_count": 19
        }
      ]
    },
    {
      "cell_type": "code",
      "metadata": {
        "id": "CBMdZ1ksGxNy",
        "colab": {
          "base_uri": "https://localhost:8080/",
          "height": 298
        },
        "outputId": "d99e89c7-2796-4569-e348-f1ec406c470a"
      },
      "source": [
        "# checking the number of images or x-rays per patient\n",
        "d=dict()\n",
        "for patient in df[\"patient_id\"]:\n",
        "  if patient in d:\n",
        "    d[patient]+=1\n",
        "  else:\n",
        "    d[patient]=1\n",
        "\n",
        "count=list(d.values())\n",
        "sns.countplot(count)\n",
        "plt.title(\"number of image per patient \")"
      ],
      "execution_count": null,
      "outputs": [
        {
          "output_type": "execute_result",
          "data": {
            "text/plain": [
              "Text(0.5, 1.0, 'number of image per patient ')"
            ]
          },
          "metadata": {},
          "execution_count": 20
        },
        {
          "output_type": "display_data",
          "data": {
            "text/plain": [
              "<Figure size 432x288 with 1 Axes>"
            ],
            "image/png": "[encoded data removed]"
          },
          "metadata": {
            "needs_background": "light"
          }
        }
      ]
    },
    {
      "cell_type": "markdown",
      "metadata": {
        "id": "CFB8ELDvG6X0"
      },
      "source": [
        "Most reports have two x-ray images associated with it. Some patients have 1 image assocaited with their report. Some has 3 or 4 x-ray images. If there are more than two images per patient, we randomly select two from the images. If there is only one image associated with a patient, then we duplicate the image."
      ]
    },
    {
      "cell_type": "code",
      "metadata": {
        "id": "7HdCMLuGPDu3"
      },
      "source": [
        "d=dict() #where key is the patient id and value is the images\n",
        "d1=dict() # where key is the patient id and value is the report or findings\n",
        "for row in range(df.shape[0]):\n",
        "  if df.iloc[row][\"patient_id\"] in d:\n",
        "    d[df.iloc[row][\"patient_id\"]].append(df.iloc[row][\"image_id\"])\n",
        "  else:\n",
        "    d[df.iloc[row][\"patient_id\"]]=[df.iloc[row][\"image_id\"]]\n",
        "\n",
        "  d1[df.iloc[row][\"patient_id\"]]=[df.iloc[row][\"finding\"]]"
      ],
      "execution_count": null,
      "outputs": []
    },
    {
      "cell_type": "code",
      "metadata": {
        "id": "e3yUYuMPPokH",
        "colab": {
          "base_uri": "https://localhost:8080/"
        },
        "outputId": "487f526b-127f-4b36-cf81-fe9af1ab9f80"
      },
      "source": [
        "#images and findings associated with the first patient\n",
        "print(d[\"CXR3676_IM-1829-0001\"])\n",
        "print(d1[\"CXR3676_IM-1829-0001\"])"
      ],
      "execution_count": null,
      "outputs": [
        {
          "output_type": "stream",
          "name": "stdout",
          "text": [
            "['NLMCXR_png/CXR3676_IM-1829-0001-0001.png', 'NLMCXR_png/CXR3676_IM-1829-0001-0002.png']\n",
            "[\"The cardiomediastinal silhouette appears irregular secondary to the diffuse bilateral pulmonary interstitial disease. The thoracic aorta is tortuous. Calcified lymph XXXX are demonstrated in the left hilum. No focal pulmonary consolidation. Diffuse increased bilateral pulmonary interstitial markings, consistent with the patient's history of known pulmonary fibrosis, with relative sparing of the bilateral lung apices. No pneumothorax or pleural effusion demonstrated. The thoracic spine appears intact.\"]\n"
          ]
        }
      ]
    },
    {
      "cell_type": "code",
      "metadata": {
        "id": "PzzsreJVKvUf"
      },
      "source": [
        "image1=[]\n",
        "image2=[]\n",
        "report=[]\n",
        "patient_id=[]\n",
        "for patient in d.keys():\n",
        "\n",
        "  #if there is only one image for a person\n",
        "  if len(d[patient])==1:\n",
        "    img1=d[patient][0]\n",
        "    img2=d[patient][0]\n",
        "\n",
        "  #if there are two images for a person\n",
        "  elif len(d[patient])==2:\n",
        "    img1=d[patient][0]\n",
        "    img2=d[patient][1]\n",
        "  \n",
        "  #if there are three images for a person\n",
        "  elif len(d[patient])==3:\n",
        "    a=np.random.choice([0,1,2],2)\n",
        "    img1=d[patient][a[0]]\n",
        "    img2=d[patient][a[1]]\n",
        "\n",
        "  #if there are four images for a person\n",
        "  elif len(d[patient])==4:\n",
        "    a=np.random.choice([0,1,2,3],2)\n",
        "    img1=d[patient][a[0]]\n",
        "    img2=d[patient][a[1]]\n",
        "    \n",
        "  image1.append(img1)\n",
        "  image2.append(img2)\n",
        "  report.append(d1[patient][0])\n",
        "  patient_id.append(patient)"
      ],
      "execution_count": null,
      "outputs": []
    },
    {
      "cell_type": "code",
      "metadata": {
        "id": "hbJBF5UjP2-I",
        "colab": {
          "base_uri": "https://localhost:8080/",
          "height": 424
        },
        "outputId": "b977c103-04f0-403c-b465-15c1855fb53b"
      },
      "source": [
        "df_dash=pd.DataFrame()\n",
        "df_dash[\"patient_id\"]=patient_id\n",
        "df_dash[\"image1\"]=image1\n",
        "df_dash[\"image2\"]=image2\n",
        "df_dash[\"report\"]=report\n",
        "df_dash"
      ],
      "execution_count": null,
      "outputs": [
        {
          "output_type": "execute_result",
          "data": {
            "text/plain": [
              "                patient_id                                    image1  \\\n",
              "0          CXR1964_IM-0629       NLMCXR_png/CXR1964_IM-0629-1001.png   \n",
              "1          CXR1982_IM-0639       NLMCXR_png/CXR1982_IM-0639-1001.png   \n",
              "2          CXR1967_IM-0629       NLMCXR_png/CXR1967_IM-0629-1001.png   \n",
              "3          CXR1894_IM-0581       NLMCXR_png/CXR1894_IM-0581-1001.png   \n",
              "4          CXR1923_IM-0598       NLMCXR_png/CXR1923_IM-0598-1001.png   \n",
              "...                    ...                                       ...   \n",
              "3811       CXR3751_IM-1875       NLMCXR_png/CXR3751_IM-1875-1001.png   \n",
              "3812       CXR3707_IM-1851       NLMCXR_png/CXR3707_IM-1851-1001.png   \n",
              "3813  CXR3674_IM-1829-0001  NLMCXR_png/CXR3674_IM-1829-0001-0001.png   \n",
              "3814       CXR3724_IM-1860       NLMCXR_png/CXR3724_IM-1860-1001.png   \n",
              "3815       CXR3718_IM-1856       NLMCXR_png/CXR3718_IM-1856-2001.png   \n",
              "\n",
              "                                        image2  \\\n",
              "0          NLMCXR_png/CXR1964_IM-0629-2001.png   \n",
              "1          NLMCXR_png/CXR1982_IM-0639-2001.png   \n",
              "2          NLMCXR_png/CXR1967_IM-0629-3001.png   \n",
              "3          NLMCXR_png/CXR1894_IM-0581-2001.png   \n",
              "4          NLMCXR_png/CXR1923_IM-0598-2001.png   \n",
              "...                                        ...   \n",
              "3811       NLMCXR_png/CXR3751_IM-1875-2001.png   \n",
              "3812       NLMCXR_png/CXR3707_IM-1851-2001.png   \n",
              "3813  NLMCXR_png/CXR3674_IM-1829-0001-0002.png   \n",
              "3814       NLMCXR_png/CXR3724_IM-1860-2001.png   \n",
              "3815       NLMCXR_png/CXR3718_IM-1856-2001.png   \n",
              "\n",
              "                                                 report  \n",
              "0     Heart size and mediastinal contours appear wit...  \n",
              "1     Some XXXX opacities compatible with subsegment...  \n",
              "2     Heart size and pulmonary vascularity appear wi...  \n",
              "3     The heart is normal in size. The mediastinum i...  \n",
              "4     Lungs are clear without focal consolidation, e...  \n",
              "...                                                 ...  \n",
              "3811  The lungs are clear without evidence of focal ...  \n",
              "3812  There may be a subtle airspace opacity in the ...  \n",
              "3813  No comparison chest x-XXXX. Well-expanded and ...  \n",
              "3814  Heart size normal. Lungs are clear. XXXX are n...  \n",
              "3815  Heart size is within normal limits. Mild promi...  \n",
              "\n",
              "[3816 rows x 4 columns]"
            ],
            "text/html": [
              "\n",
              "  <div id=\"df-73df2f86-c255-45e9-97c7-51c6e3ade260\">\n",
              "    <div class=\"colab-df-container\">\n",
              "      <div>\n",
              "<style scoped>\n",
              "    .dataframe tbody tr th:only-of-type {\n",
              "        vertical-align: middle;\n",
              "    }\n",
              "\n",
              "    .dataframe tbody tr th {\n",
              "        vertical-align: top;\n",
              "    }\n",
              "\n",
              "    .dataframe thead th {\n",
              "        text-align: right;\n",
              "    }\n",
              "</style>\n",
              "<table border=\"1\" class=\"dataframe\">\n",
              "  <thead>\n",
              "    <tr style=\"text-align: right;\">\n",
              "      <th></th>\n",
              "      <th>patient_id</th>\n",
              "      <th>image1</th>\n",
              "      <th>image2</th>\n",
              "      <th>report</th>\n",
              "    </tr>\n",
              "  </thead>\n",
              "  <tbody>\n",
              "    <tr>\n",
              "      <th>0</th>\n",
              "      <td>CXR1964_IM-0629</td>\n",
              "      <td>NLMCXR_png/CXR1964_IM-0629-1001.png</td>\n",
              "      <td>NLMCXR_png/CXR1964_IM-0629-2001.png</td>\n",
              "      <td>Heart size and mediastinal contours appear wit...</td>\n",
              "    </tr>\n",
              "    <tr>\n",
              "      <th>1</th>\n",
              "      <td>CXR1982_IM-0639</td>\n",
              "      <td>NLMCXR_png/CXR1982_IM-0639-1001.png</td>\n",
              "      <td>NLMCXR_png/CXR1982_IM-0639-2001.png</td>\n",
              "      <td>Some XXXX opacities compatible with subsegment...</td>\n",
              "    </tr>\n",
              "    <tr>\n",
              "      <th>2</th>\n",
              "      <td>CXR1967_IM-0629</td>\n",
              "      <td>NLMCXR_png/CXR1967_IM-0629-1001.png</td>\n",
              "      <td>NLMCXR_png/CXR1967_IM-0629-3001.png</td>\n",
              "      <td>Heart size and pulmonary vascularity appear wi...</td>\n",
              "    </tr>\n",
              "    <tr>\n",
              "      <th>3</th>\n",
              "      <td>CXR1894_IM-0581</td>\n",
              "      <td>NLMCXR_png/CXR1894_IM-0581-1001.png</td>\n",
              "      <td>NLMCXR_png/CXR1894_IM-0581-2001.png</td>\n",
              "      <td>The heart is normal in size. The mediastinum i...</td>\n",
              "    </tr>\n",
              "    <tr>\n",
              "      <th>4</th>\n",
              "      <td>CXR1923_IM-0598</td>\n",
              "      <td>NLMCXR_png/CXR1923_IM-0598-1001.png</td>\n",
              "      <td>NLMCXR_png/CXR1923_IM-0598-2001.png</td>\n",
              "      <td>Lungs are clear without focal consolidation, e...</td>\n",
              "    </tr>\n",
              "    <tr>\n",
              "      <th>...</th>\n",
              "      <td>...</td>\n",
              "      <td>...</td>\n",
              "      <td>...</td>\n",
              "      <td>...</td>\n",
              "    </tr>\n",
              "    <tr>\n",
              "      <th>3811</th>\n",
              "      <td>CXR3751_IM-1875</td>\n",
              "      <td>NLMCXR_png/CXR3751_IM-1875-1001.png</td>\n",
              "      <td>NLMCXR_png/CXR3751_IM-1875-2001.png</td>\n",
              "      <td>The lungs are clear without evidence of focal ...</td>\n",
              "    </tr>\n",
              "    <tr>\n",
              "      <th>3812</th>\n",
              "      <td>CXR3707_IM-1851</td>\n",
              "      <td>NLMCXR_png/CXR3707_IM-1851-1001.png</td>\n",
              "      <td>NLMCXR_png/CXR3707_IM-1851-2001.png</td>\n",
              "      <td>There may be a subtle airspace opacity in the ...</td>\n",
              "    </tr>\n",
              "    <tr>\n",
              "      <th>3813</th>\n",
              "      <td>CXR3674_IM-1829-0001</td>\n",
              "      <td>NLMCXR_png/CXR3674_IM-1829-0001-0001.png</td>\n",
              "      <td>NLMCXR_png/CXR3674_IM-1829-0001-0002.png</td>\n",
              "      <td>No comparison chest x-XXXX. Well-expanded and ...</td>\n",
              "    </tr>\n",
              "    <tr>\n",
              "      <th>3814</th>\n",
              "      <td>CXR3724_IM-1860</td>\n",
              "      <td>NLMCXR_png/CXR3724_IM-1860-1001.png</td>\n",
              "      <td>NLMCXR_png/CXR3724_IM-1860-2001.png</td>\n",
              "      <td>Heart size normal. Lungs are clear. XXXX are n...</td>\n",
              "    </tr>\n",
              "    <tr>\n",
              "      <th>3815</th>\n",
              "      <td>CXR3718_IM-1856</td>\n",
              "      <td>NLMCXR_png/CXR3718_IM-1856-2001.png</td>\n",
              "      <td>NLMCXR_png/CXR3718_IM-1856-2001.png</td>\n",
              "      <td>Heart size is within normal limits. Mild promi...</td>\n",
              "    </tr>\n",
              "  </tbody>\n",
              "</table>\n",
              "<p>3816 rows × 4 columns</p>\n",
              "</div>\n",
              "      <button class=\"colab-df-convert\" onclick=\"convertToInteractive('df-73df2f86-c255-45e9-97c7-51c6e3ade260')\"\n",
              "              title=\"Convert this dataframe to an interactive table.\"\n",
              "              style=\"display:none;\">\n",
              "        \n",
              "  <svg xmlns=\"http://www.w3.org/2000/svg\" height=\"24px\"viewBox=\"0 0 24 24\"\n",
              "       width=\"24px\">\n",
              "    <path d=\"M0 0h24v24H0V0z\" fill=\"none\"/>\n",
              "    <path d=\"M18.56 5.44l.94 2.06.94-2.06 2.06-.94-2.06-.94-.94-2.06-.94 2.06-2.06.94zm-11 1L8.5 8.5l.94-2.06 2.06-.94-2.06-.94L8.5 2.5l-.94 2.06-2.06.94zm10 10l.94 2.06.94-2.06 2.06-.94-2.06-.94-.94-2.06-.94 2.06-2.06.94z\"/><path d=\"M17.41 7.96l-1.37-1.37c-.4-.4-.92-.59-1.43-.59-.52 0-1.04.2-1.43.59L10.3 9.45l-7.72 7.72c-.78.78-.78 2.05 0 2.83L4 21.41c.39.39.9.59 1.41.59.51 0 1.02-.2 1.41-.59l7.78-7.78 2.81-2.81c.8-.78.8-2.07 0-2.86zM5.41 20L4 18.59l7.72-7.72 1.47 1.35L5.41 20z\"/>\n",
              "  </svg>\n",
              "      </button>\n",
              "      \n",
              "  <style>\n",
              "    .colab-df-container {\n",
              "      display:flex;\n",
              "      flex-wrap:wrap;\n",
              "      gap: 12px;\n",
              "    }\n",
              "\n",
              "    .colab-df-convert {\n",
              "      background-color: #E8F0FE;\n",
              "      border: none;\n",
              "      border-radius: 50%;\n",
              "      cursor: pointer;\n",
              "      display: none;\n",
              "      fill: #1967D2;\n",
              "      height: 32px;\n",
              "      padding: 0 0 0 0;\n",
              "      width: 32px;\n",
              "    }\n",
              "\n",
              "    .colab-df-convert:hover {\n",
              "      background-color: #E2EBFA;\n",
              "      box-shadow: 0px 1px 2px rgba(60, 64, 67, 0.3), 0px 1px 3px 1px rgba(60, 64, 67, 0.15);\n",
              "      fill: #174EA6;\n",
              "    }\n",
              "\n",
              "    [theme=dark] .colab-df-convert {\n",
              "      background-color: #3B4455;\n",
              "      fill: #D2E3FC;\n",
              "    }\n",
              "\n",
              "    [theme=dark] .colab-df-convert:hover {\n",
              "      background-color: #434B5C;\n",
              "      box-shadow: 0px 1px 3px 1px rgba(0, 0, 0, 0.15);\n",
              "      filter: drop-shadow(0px 1px 2px rgba(0, 0, 0, 0.3));\n",
              "      fill: #FFFFFF;\n",
              "    }\n",
              "  </style>\n",
              "\n",
              "      <script>\n",
              "        const buttonEl =\n",
              "          document.querySelector('#df-73df2f86-c255-45e9-97c7-51c6e3ade260 button.colab-df-convert');\n",
              "        buttonEl.style.display =\n",
              "          google.colab.kernel.accessAllowed ? 'block' : 'none';\n",
              "\n",
              "        async function convertToInteractive(key) {\n",
              "          const element = document.querySelector('#df-73df2f86-c255-45e9-97c7-51c6e3ade260');\n",
              "          const dataTable =\n",
              "            await google.colab.kernel.invokeFunction('convertToInteractive',\n",
              "                                                     [key], {});\n",
              "          if (!dataTable) return;\n",
              "\n",
              "          const docLinkHtml = 'Like what you see? Visit the ' +\n",
              "            '<a target=\"_blank\" href=https://colab.research.google.com/notebooks/data_table.ipynb>data table notebook</a>'\n",
              "            + ' to learn more about interactive tables.';\n",
              "          element.innerHTML = '';\n",
              "          dataTable['output_type'] = 'display_data';\n",
              "          await google.colab.output.renderOutput(dataTable, element);\n",
              "          const docLink = document.createElement('div');\n",
              "          docLink.innerHTML = docLinkHtml;\n",
              "          element.appendChild(docLink);\n",
              "        }\n",
              "      </script>\n",
              "    </div>\n",
              "  </div>\n",
              "  "
            ]
          },
          "metadata": {},
          "execution_count": 23
        }
      ]
    },
    {
      "cell_type": "markdown",
      "metadata": {
        "id": "SR4pnDr39Xt8"
      },
      "source": [
        "Now, we created a dataframe with two images per patient and the corresponding report as the finding"
      ]
    },
    {
      "cell_type": "markdown",
      "source": [
        "Preprocess Text"
      ],
      "metadata": {
        "id": "r2n7DY8mD_nV"
      }
    },
    {
      "cell_type": "code",
      "metadata": {
        "id": "ytWyPo3oRCDE",
        "colab": {
          "base_uri": "https://localhost:8080/"
        },
        "outputId": "ba63c4eb-e7c9-4981-c758-9f7057af6ed8"
      },
      "source": [
        "# some sample report\n",
        "print(df_dash[\"report\"].values[:10])"
      ],
      "execution_count": null,
      "outputs": [
        {
          "output_type": "stream",
          "name": "stdout",
          "text": [
            "['Heart size and mediastinal contours appear within normal limits. Pulmonary vascularity is within normal limits. No focal consolidation, suspicious pulmonary opacity, pneumothorax or definite pleural effusion. Visualized osseous structures appear intact.'\n",
            " 'Some XXXX opacities compatible with subsegmental atelectasis/scarring noted projecting over region of right middle lobe/lingula on lateral view. Overall, well-expanded and clear lungs. Mediastinal contour within normal limits. No acute cardiopulmonary abnormality identified.'\n",
            " 'Heart size and pulmonary vascularity appear within normal limits. The lungs are free of focal airspace disease. There has been interval development of some XXXX bandlike opacities in left base. These appear to be located in the lingula. The remainder of the lungs appear clear. No pneumothorax or pleural effusion is seen.'\n",
            " 'The heart is normal in size. The mediastinum is unremarkable. Subtle increased opacity of right mid hemithorax XXXX related to superimposed soft tissues. The lungs are otherwise clear. There is no pleural effusion or pneumothorax.'\n",
            " 'Lungs are clear without focal consolidation, effusion, or pneumothorax. Hyperinflated lungs. Cardiomegaly. Bony thorax and soft tissues grossly unremarkable'\n",
            " 'Stable right chest wall pacemaker with leads overlie the right atrium and right ventricle. Stable cardiomegaly. Calcified thoracic aorta is unchanged. Stable mild interstitial opacities. Unchanged dense retrocardiac opacities. No pneumothorax or large effusion.'\n",
            " 'Cardiac and mediastinal contours are within normal limits. Prior granulomatous disease. The lungs are otherwise clear. Bony structures are intact.'\n",
            " 'Aorta is ectatic. Heart size is within normal limits. No focal consolidation, pneumothorax or pleural effusion. Age-indeterminate anterior wedging deformity of lower thoracic vertebra.'\n",
            " 'There is moderate cardiomegaly. There are bilateral interstitial opacities, increased since the previous exam. No focal airspace consolidation, pleural effusions or pneumothorax. No acute bony abnormalities.'\n",
            " 'The heart and lungs have XXXX XXXX in the interval. Both lungs are clear and expanded. Heart and mediastinum normal.']\n"
          ]
        }
      ]
    },
    {
      "cell_type": "code",
      "metadata": {
        "id": "FJUhLIS3qu32",
        "colab": {
          "base_uri": "https://localhost:8080/"
        },
        "outputId": "61ab9462-90a7-4462-ba13-4517d66031e4"
      },
      "source": [
        "#convert into lowercase\n",
        "finding=df_dash[\"report\"].values\n",
        "for idx in tqdm(range(len(finding))):\n",
        "    \n",
        "    lower=finding[idx].lower()\n",
        "    finding[idx]=lower\n",
        "  \n",
        "df_dash[\"report\"]=finding\n"
      ],
      "execution_count": null,
      "outputs": [
        {
          "output_type": "stream",
          "name": "stderr",
          "text": [
            "100%|██████████| 3816/3816 [00:00<00:00, 325917.12it/s]\n"
          ]
        }
      ]
    },
    {
      "cell_type": "code",
      "metadata": {
        "id": "u3foffxmrkoX"
      },
      "source": [],
      "execution_count": null,
      "outputs": []
    },
    {
      "cell_type": "code",
      "metadata": {
        "id": "J7Av5SkU01fl",
        "colab": {
          "base_uri": "https://localhost:8080/"
        },
        "outputId": "24c25267-a761-49bb-b2e9-b0648d6bc8b1"
      },
      "source": [
        "#Now we need to expand the contractions like won't, can't, don't etc.\n",
        "#https://stackoverflow.com/questions/19790188/expanding-english-language-contractions-in-python\n",
        "contractions = { \n",
        "\"ain't\": \"am not / are not / is not / has not / have not\",\n",
        "\"aren't\": \"are not / am not\",\n",
        "\"can't\": \"cannot\",\n",
        "\"can't've\": \"cannot have\",\n",
        "\"'cause\": \"because\",\n",
        "\"could've\": \"could have\",\n",
        "\"couldn't\": \"could not\",\n",
        "\"couldn't've\": \"could not have\",\n",
        "\"didn't\": \"did not\",\n",
        "\"doesn't\": \"does not\",\n",
        "\"don't\": \"do not\",\n",
        "\"hadn't\": \"had not\",\n",
        "\"hadn't've\": \"had not have\",\n",
        "\"hasn't\": \"has not\",\n",
        "\"haven't\": \"have not\",\n",
        "\"he'd\": \"he had / he would\",\n",
        "\"he'd've\": \"he would have\",\n",
        "\"he'll\": \"he shall / he will\",\n",
        "\"he'll've\": \"he shall have / he will have\",\n",
        "\"he's\": \"he has / he is\",\n",
        "\"how'd\": \"how did\",\n",
        "\"how'd'y\": \"how do you\",\n",
        "\"how'll\": \"how will\",\n",
        "\"how's\": \"how has / how is / how does\",\n",
        "\"i'd\": \"i had / i would\",\n",
        "\"i'd've\": \"i would have\",\n",
        "\"i'll\": \"i shall / I will\",\n",
        "\"i'll've\": \"i shall have / i will have\",\n",
        "\"i'm\": \"i am\",\n",
        "\"i've\": \"i have\",\n",
        "\"isn't\": \"is not\",\n",
        "\"it'd\": \"it had / it would\",\n",
        "\"it'd've\": \"it would have\",\n",
        "\"it'll\": \"it shall / it will\",\n",
        "\"it'll've\": \"it shall have / it will have\",\n",
        "\"it's\": \"it has / it is\",\n",
        "\"let's\": \"let us\",\n",
        "\"ma'am\": \"madam\",\n",
        "\"mayn't\": \"may not\",\n",
        "\"might've\": \"might have\",\n",
        "\"mightn't\": \"might not\",\n",
        "\"mightn't've\": \"might not have\",\n",
        "\"must've\": \"must have\",\n",
        "\"mustn't\": \"must not\",\n",
        "\"mustn't've\": \"must not have\",\n",
        "\"needn't\": \"need not\",\n",
        "\"needn't've\": \"need not have\",\n",
        "\"o'clock\": \"of the clock\",\n",
        "\"oughtn't\": \"ought not\",\n",
        "\"oughtn't've\": \"ought not have\",\n",
        "\"shan't\": \"shall not\",\n",
        "\"sha'n't\": \"shall not\",\n",
        "\"shan't've\": \"shall not have\",\n",
        "\"she'd\": \"she had / she would\",\n",
        "\"she'd've\": \"she would have\",\n",
        "\"she'll\": \"she shall / she will\",\n",
        "\"she'll've\": \"she shall have / she will have\",\n",
        "\"she's\": \"she has / she is\",\n",
        "\"should've\": \"should have\",\n",
        "\"shouldn't\": \"should not\",\n",
        "\"shouldn't've\": \"should not have\",\n",
        "\"so've\": \"so have\",\n",
        "\"so's\": \"so as / so is\",\n",
        "\"that'd\": \"that would / that had\",\n",
        "\"that'd've\": \"that would have\",\n",
        "\"that's\": \"that has / that is\",\n",
        "\"there'd\": \"there had / there would\",\n",
        "\"there'd've\": \"there would have\",\n",
        "\"there's\": \"there has / there is\",\n",
        "\"they'd\": \"they had / they would\",\n",
        "\"they'd've\": \"they would have\",\n",
        "\"they'll\": \"they shall / they will\",\n",
        "\"they'll've\": \"they shall have / they will have\",\n",
        "\"they're\": \"they are\",\n",
        "\"they've\": \"they have\",\n",
        "\"to've\": \"to have\",\n",
        "\"wasn't\": \"was not\",\n",
        "\"we'd\": \"we had / we would\",\n",
        "\"we'd've\": \"we would have\",\n",
        "\"we'll\": \"we will\",\n",
        "\"we'll've\": \"we will have\",\n",
        "\"we're\": \"we are\",\n",
        "\"we've\": \"we have\",\n",
        "\"weren't\": \"were not\",\n",
        "\"what'll\": \"what shall / what will\",\n",
        "\"what'll've\": \"what shall have / what will have\",\n",
        "\"what're\": \"what are\",\n",
        "\"what's\": \"what has / what is\",\n",
        "\"what've\": \"what have\",\n",
        "\"when's\": \"when has / when is\",\n",
        "\"when've\": \"when have\",\n",
        "\"where'd\": \"where did\",\n",
        "\"where's\": \"where has / where is\",\n",
        "\"where've\": \"where have\",\n",
        "\"who'll\": \"who shall / who will\",\n",
        "\"who'll've\": \"who shall have / who will have\",\n",
        "\"who's\": \"who has / who is\",\n",
        "\"who've\": \"who have\",\n",
        "\"why's\": \"why has / why is\",\n",
        "\"why've\": \"why have\",\n",
        "\"will've\": \"will have\",\n",
        "\"won't\": \"will not\",\n",
        "\"won't've\": \"will not have\",\n",
        "\"would've\": \"would have\",\n",
        "\"wouldn't\": \"would not\",\n",
        "\"wouldn't've\": \"would not have\",\n",
        "\"y'all\": \"you all\",\n",
        "\"y'all'd\": \"you all would\",\n",
        "\"y'all'd've\": \"you all would have\",\n",
        "\"y'all're\": \"you all are\",\n",
        "\"y'all've\": \"you all have\",\n",
        "\"you'd\": \"you had / you would\",\n",
        "\"you'd've\": \"you would have\",\n",
        "\"you'll\": \"you shall / you will\",\n",
        "\"you'll've\": \"you shall have / you will have\",\n",
        "\"you're\": \"you are\",\n",
        "\"you've\": \"you have\"\n",
        "}\n",
        "\n",
        "findings=df_dash[\"report\"].values\n",
        "for idx in tqdm(range(len(findings))):\n",
        "  list_of_words=findings[idx].split(\" \")\n",
        "  \n",
        "  sentence=\"\"\n",
        "  for i in list_of_words:\n",
        "    \n",
        "    if len(i)>2:\n",
        "      \n",
        "      if i in list(contractions.keys()):\n",
        "        word=contractions[i]\n",
        "      else:\n",
        "        word=i\n",
        "      \n",
        "      sentence+=word+\" \"\n",
        "    else:\n",
        "      continue\n",
        "  findings[idx]=sentence\n"
      ],
      "execution_count": null,
      "outputs": [
        {
          "output_type": "stream",
          "name": "stderr",
          "text": [
            "100%|██████████| 3816/3816 [00:01<00:00, 3239.22it/s]\n"
          ]
        }
      ]
    },
    {
      "cell_type": "code",
      "metadata": {
        "id": "2RwqXKaHzlDf",
        "colab": {
          "base_uri": "https://localhost:8080/"
        },
        "outputId": "dbae0a05-8498-4471-d41a-12aa79fce299"
      },
      "source": [
        "### Now we remove all the special characters, and digits, the extra spaces , junk values xxx in the sentence. \n",
        "\n",
        "for idx in tqdm(range(len(finding))):\n",
        "    \n",
        "  report=re.sub(\"[^a-z.]\",\" \",finding[idx])\n",
        "  report=re.sub(\"xx+\",\"\",report)\n",
        "  report=re.sub(r'\\b\\w{1,2}\\b',\"\",report)\n",
        "  report=re.sub(\"\\s\\s+\",\" \",report)\n",
        "  finding[idx]=report \n",
        "print(\"\\n\")\n"
      ],
      "execution_count": null,
      "outputs": [
        {
          "output_type": "stream",
          "name": "stderr",
          "text": [
            "100%|██████████| 3816/3816 [00:00<00:00, 35707.51it/s]"
          ]
        },
        {
          "output_type": "stream",
          "name": "stdout",
          "text": [
            "\n",
            "\n"
          ]
        },
        {
          "output_type": "stream",
          "name": "stderr",
          "text": [
            "\n"
          ]
        }
      ]
    },
    {
      "cell_type": "code",
      "metadata": {
        "id": "6gcJLqre6RUl",
        "colab": {
          "base_uri": "https://localhost:8080/"
        },
        "outputId": "ccb8ca0e-a302-4b0d-80fa-8074c370f220"
      },
      "source": [
        "for i in finding[:5]:\n",
        "  print(i)\n",
        "\n",
        "  "
      ],
      "execution_count": null,
      "outputs": [
        {
          "output_type": "stream",
          "name": "stdout",
          "text": [
            " eart size and mediastinal contours appear within normal limits. ulmonary vascularity within normal limits. focal consolidation suspicious pulmonary opacity pneumothorax definite pleural effusion. isualized osseous structures appear intact. \n",
            " ome opacities compatible with subsegmental atelectasis scarring noted projecting over region right middle lobe lingula lateral view. verall well expanded and clear lungs. ediastinal contour within normal limits. acute cardiopulmonary abnormality identified. \n",
            " eart size and pulmonary vascularity appear within normal limits. lungs are free focal airspace disease. here has been interval development some bandlike opacities left base. hese appear located the lingula. remainder the lungs appear clear. pneumothorax pleural effusion seen. \n",
            " heart normal size. mediastinum unremarkable. ubtle increased opacity right mid hemithorax related superimposed soft tissues. lungs are otherwise clear. here pleural effusion pneumothorax. \n",
            " ungs are clear without focal consolidation effusion pneumothorax. yperinflated lungs. ardiomegaly. ony thorax and soft tissues grossly unremarkable \n",
            " table right chest wall pacemaker with leads overlie the right atrium and right ventricle. table cardiomegaly. alcified thoracic aorta unchanged. table mild interstitial opacities. nchanged dense retrocardiac opacities. pneumothorax large effusion. \n",
            " ardiac and mediastinal contours are within normal limits. rior granulomatous disease. lungs are otherwise clear. ony structures are intact. \n",
            " orta ectatic. eart size within normal limits. focal consolidation pneumothorax pleural effusion. indeterminate anterior wedging deformity lower thoracic vertebra. \n",
            " here moderate cardiomegaly. here are bilateral interstitial opacities increased since the previous exam. focal airspace consolidation pleural effusions pneumothorax. acute bony abnormalities. \n",
            " heart and lungs have the interval. oth lungs are clear and expanded. eart and mediastinum normal. \n"
          ]
        }
      ]
    },
    {
      "cell_type": "code",
      "metadata": {
        "id": "7TfI97cuzMNY"
      },
      "source": [
        "df_dash[\"report\"]=finding\n",
        "df_dash.to_csv(\"data_final.csv\")"
      ],
      "execution_count": null,
      "outputs": []
    }
  ]
}